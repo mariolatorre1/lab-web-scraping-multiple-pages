{
 "cells": [
  {
   "cell_type": "code",
   "execution_count": 1,
   "id": "f8c41d2c",
   "metadata": {},
   "outputs": [],
   "source": [
    "from bs4 import BeautifulSoup\n",
    "import pandas as pd\n",
    "import requests\n",
    "import math"
   ]
  },
  {
   "cell_type": "code",
   "execution_count": 2,
   "id": "8089b5f0",
   "metadata": {},
   "outputs": [
    {
     "data": {
      "text/plain": [
       "200"
      ]
     },
     "execution_count": 2,
     "metadata": {},
     "output_type": "execute_result"
    }
   ],
   "source": [
    "r = requests.get('https://www.npr.org/2022/12/15/1135802083/100-best-songs-2022-page-1')\n",
    "r.status_code"
   ]
  },
  {
   "cell_type": "code",
   "execution_count": 3,
   "id": "376bd99b",
   "metadata": {},
   "outputs": [
    {
     "data": {
      "text/plain": [
       "'100'"
      ]
     },
     "execution_count": 3,
     "metadata": {},
     "output_type": "execute_result"
    }
   ],
   "source": [
    "soup = BeautifulSoup(r.content, 'html.parser')\n",
    "\n",
    "soup.find('font', attrs={'style': \"font-family:Gotham SSm,Helvetica,Arial,sans-serif;font-size:16px\"}).get_text().split()[0][0:3]\n"
   ]
  },
  {
   "cell_type": "code",
   "execution_count": 4,
   "id": "21335f0c",
   "metadata": {},
   "outputs": [
    {
     "data": {
      "text/plain": [
       "5"
      ]
     },
     "execution_count": 4,
     "metadata": {},
     "output_type": "execute_result"
    }
   ],
   "source": [
    "math.ceil(int(soup.find('font', attrs={'style': \"font-family:Gotham SSm,Helvetica,Arial,sans-serif;font-size:16px\"}).get_text().split()[0][0:3]) / 20)\n",
    "          "
   ]
  },
  {
   "cell_type": "code",
   "execution_count": 5,
   "id": "ff4bec22",
   "metadata": {},
   "outputs": [
    {
     "data": {
      "text/plain": [
       "100"
      ]
     },
     "execution_count": 5,
     "metadata": {},
     "output_type": "execute_result"
    }
   ],
   "source": [
    "total_results = int(soup.find('font', attrs={'style': \"font-family:Gotham SSm,Helvetica,Arial,sans-serif;font-size:16px\"}).get_text().split()[0][0:3])\n",
    "total_results"
   ]
  },
  {
   "cell_type": "code",
   "execution_count": 6,
   "id": "0f584ac3",
   "metadata": {},
   "outputs": [
    {
     "data": {
      "text/plain": [
       "['/2022/12/15/1135802978/100-best-songs-2022-page-2',\n",
       " '/2022/12/15/1135803422/100-best-songs-2022-page-3',\n",
       " '/2022/12/15/1135803900/100-best-songs-2022-page-4',\n",
       " '/2022/12/15/1135804266/100-best-songs-2022-page-5']"
      ]
     },
     "execution_count": 6,
     "metadata": {},
     "output_type": "execute_result"
    }
   ],
   "source": [
    "pages = [i.get('href') for i in soup.find('font', attrs={'style': \"font-family:Gotham SSm,Helvetica,Arial,sans-serif;font-size:16px\"}).find_all('a')] \n",
    "pages    "
   ]
  },
  {
   "cell_type": "code",
   "execution_count": 7,
   "id": "637f6faf",
   "metadata": {},
   "outputs": [
    {
     "data": {
      "text/plain": [
       "['/2022/12/15/1135802083/100-best-songs-2022-page-1',\n",
       " '/2022/12/15/1135802978/100-best-songs-2022-page-2',\n",
       " '/2022/12/15/1135803422/100-best-songs-2022-page-3',\n",
       " '/2022/12/15/1135803900/100-best-songs-2022-page-4',\n",
       " '/2022/12/15/1135804266/100-best-songs-2022-page-5']"
      ]
     },
     "execution_count": 7,
     "metadata": {},
     "output_type": "execute_result"
    }
   ],
   "source": [
    "page_1 = ['/2022/12/15/1135802083/100-best-songs-2022-page-1']\n",
    "\n",
    "starts = page_1 + pages\n",
    "starts"
   ]
  },
  {
   "cell_type": "code",
   "execution_count": 8,
   "id": "8e318ccc",
   "metadata": {},
   "outputs": [
    {
     "data": {
      "text/plain": [
       "['/2022/12/15/1135804266/100-best-songs-2022-page-5',\n",
       " '/2022/12/15/1135803900/100-best-songs-2022-page-4',\n",
       " '/2022/12/15/1135803422/100-best-songs-2022-page-3',\n",
       " '/2022/12/15/1135802978/100-best-songs-2022-page-2',\n",
       " '/2022/12/15/1135802083/100-best-songs-2022-page-1']"
      ]
     },
     "execution_count": 8,
     "metadata": {},
     "output_type": "execute_result"
    }
   ],
   "source": [
    "rev_starts = starts[::-1]\n",
    "rev_starts"
   ]
  },
  {
   "cell_type": "code",
   "execution_count": 9,
   "id": "592e3795",
   "metadata": {},
   "outputs": [
    {
     "data": {
      "text/plain": [
       "[<h3 class=\"edTag\">Little Simz</h3>,\n",
       " <h3 class=\"edTag\">\"Gorilla\"<em> </em></h3>,\n",
       " <h3 class=\"edTag\">Ian William Craig</h3>,\n",
       " <h3 class=\"edTag\">\"Attention For It Radiates\"</h3>,\n",
       " <h3 class=\"edTag\">Viking Ding Dong x Ravi B</h3>,\n",
       " <h3 class=\"edTag\">\"Leave It Alone (Remix)\"</h3>,\n",
       " <h3 class=\"edTag\">Adeem the Artist</h3>,\n",
       " <h3 class=\"edTag\">\"Middle of a Heart\"<em> </em></h3>,\n",
       " <h3 class=\"edTag\">Zahsosaa, D STURDY &amp; DJ Crazy</h3>,\n",
       " <h3 class=\"edTag\">\"Shakedhat\"</h3>,\n",
       " <h3 class=\"edTag\">Gabriels</h3>,\n",
       " <h3 class=\"edTag\">\"If You Only Knew\"</h3>,\n",
       " <h3 class=\"edTag\">DOMi &amp; JD BECK</h3>,\n",
       " <h3 class=\"edTag\">\"SMiLE\"</h3>,\n",
       " <h3 class=\"edTag\">Rema</h3>,\n",
       " <h3 class=\"edTag\">\"Calm Down\"</h3>,\n",
       " <h3 class=\"edTag\">Pigeon Pit</h3>,\n",
       " <h3 class=\"edTag\">\"milk crates\"</h3>,\n",
       " <h3 class=\"edTag\">Tyler Childers</h3>,\n",
       " <h3 class=\"edTag\">\"Angel Band (Jubilee Version)\"</h3>,\n",
       " <h3 class=\"edTag\">Straw Man Army</h3>,\n",
       " <h3 class=\"edTag\">\"Human Kind\"</h3>,\n",
       " <h3 class=\"edTag\">Guitarricadelafuente</h3>,\n",
       " <h3 class=\"edTag\">\"Quien encendió la luz\"</h3>,\n",
       " <h3 class=\"edTag\">Mary Halvorson</h3>,\n",
       " <h3 class=\"edTag\">\"Night Shift\"</h3>,\n",
       " <h3 class=\"edTag\">Leyla McCalla</h3>,\n",
       " <h3 class=\"edTag\">\"Dodinin\"</h3>,\n",
       " <h3 class=\"edTag\">The Mountain Goats</h3>,\n",
       " <h3 class=\"edTag\">\"Bleed Out\"</h3>,\n",
       " <h3 class=\"edTag\">NewJeans</h3>,\n",
       " <h3 class=\"edTag\">\"Hype Boy\"</h3>,\n",
       " <h3 class=\"edTag\">Joyce</h3>,\n",
       " <h3 class=\"edTag\">\"Feminina\"</h3>,\n",
       " <h3 class=\"edTag\">Ayra Starr</h3>,\n",
       " <h3 class=\"edTag\">\"Rush\"</h3>,\n",
       " <h3 class=\"edTag\">Disclosure feat. RAYE</h3>,\n",
       " <h3 class=\"edTag\">\"Waterfall\"</h3>,\n",
       " <h3 class=\"edTag\">Ari Lennox</h3>,\n",
       " <h3 class=\"edTag\">\"POF\"</h3>,\n",
       " <h3 class=\"edTag\"><a href=\"https://www.npr.org/2022/12/15/1135802978/100-best-songs-2022-page-2\">Next &gt;</a></h3>]"
      ]
     },
     "execution_count": 9,
     "metadata": {},
     "output_type": "execute_result"
    }
   ],
   "source": [
    "songs = soup.find_all('h3', attrs={'class': \"edTag\"})\n",
    "songs\n"
   ]
  },
  {
   "cell_type": "code",
   "execution_count": 10,
   "id": "26804ea1",
   "metadata": {},
   "outputs": [
    {
     "data": {
      "text/plain": [
       "['Little Simz',\n",
       " '\"Gorilla\"',\n",
       " 'Ian William Craig',\n",
       " '\"Attention For It Radiates\"',\n",
       " 'Viking Ding Dong x Ravi B',\n",
       " '\"Leave It Alone (Remix)\"',\n",
       " 'Adeem the Artist',\n",
       " '\"Middle of a Heart\"',\n",
       " 'Zahsosaa, D STURDY & DJ Crazy',\n",
       " '\"Shakedhat\"',\n",
       " 'Gabriels',\n",
       " '\"If You Only Knew\"',\n",
       " 'DOMi & JD BECK',\n",
       " '\"SMiLE\"',\n",
       " 'Rema',\n",
       " '\"Calm Down\"',\n",
       " 'Pigeon Pit',\n",
       " '\"milk crates\"',\n",
       " 'Tyler Childers',\n",
       " '\"Angel Band (Jubilee Version)\"',\n",
       " 'Straw Man Army',\n",
       " '\"Human Kind\"',\n",
       " 'Guitarricadelafuente',\n",
       " '\"Quien encendió la luz\"',\n",
       " 'Mary Halvorson',\n",
       " '\"Night Shift\"',\n",
       " 'Leyla McCalla',\n",
       " '\"Dodinin\"',\n",
       " 'The Mountain Goats',\n",
       " '\"Bleed Out\"',\n",
       " 'NewJeans',\n",
       " '\"Hype Boy\"',\n",
       " 'Joyce',\n",
       " '\"Feminina\"',\n",
       " 'Ayra Starr',\n",
       " '\"Rush\"',\n",
       " 'Disclosure feat. RAYE',\n",
       " '\"Waterfall\"',\n",
       " 'Ari Lennox',\n",
       " '\"POF\"',\n",
       " 'Next >']"
      ]
     },
     "execution_count": 10,
     "metadata": {},
     "output_type": "execute_result"
    }
   ],
   "source": [
    "songs1 = [i.get_text(strip=True) for i in soup.find_all('h3', attrs={'class': \"edTag\"})]\n",
    "songs1"
   ]
  },
  {
   "cell_type": "code",
   "execution_count": 11,
   "id": "c59aa2e2",
   "metadata": {},
   "outputs": [],
   "source": [
    "artist_name = songs1[::2] \n",
    "song_name = songs1[1::2] "
   ]
  },
  {
   "cell_type": "code",
   "execution_count": 12,
   "id": "6013e55a",
   "metadata": {},
   "outputs": [
    {
     "data": {
      "text/plain": [
       "['Little Simz',\n",
       " 'Ian William Craig',\n",
       " 'Viking Ding Dong x Ravi B',\n",
       " 'Adeem the Artist',\n",
       " 'Zahsosaa, D STURDY & DJ Crazy',\n",
       " 'Gabriels',\n",
       " 'DOMi & JD BECK',\n",
       " 'Rema',\n",
       " 'Pigeon Pit',\n",
       " 'Tyler Childers',\n",
       " 'Straw Man Army',\n",
       " 'Guitarricadelafuente',\n",
       " 'Mary Halvorson',\n",
       " 'Leyla McCalla',\n",
       " 'The Mountain Goats',\n",
       " 'NewJeans',\n",
       " 'Joyce',\n",
       " 'Ayra Starr',\n",
       " 'Disclosure feat. RAYE',\n",
       " 'Ari Lennox',\n",
       " 'Next >']"
      ]
     },
     "execution_count": 12,
     "metadata": {},
     "output_type": "execute_result"
    }
   ],
   "source": [
    "artist_name"
   ]
  },
  {
   "cell_type": "code",
   "execution_count": 13,
   "id": "ee70884c",
   "metadata": {},
   "outputs": [
    {
     "data": {
      "text/plain": [
       "['\"Gorilla\"',\n",
       " '\"Attention For It Radiates\"',\n",
       " '\"Leave It Alone (Remix)\"',\n",
       " '\"Middle of a Heart\"',\n",
       " '\"Shakedhat\"',\n",
       " '\"If You Only Knew\"',\n",
       " '\"SMiLE\"',\n",
       " '\"Calm Down\"',\n",
       " '\"milk crates\"',\n",
       " '\"Angel Band (Jubilee Version)\"',\n",
       " '\"Human Kind\"',\n",
       " '\"Quien encendió la luz\"',\n",
       " '\"Night Shift\"',\n",
       " '\"Dodinin\"',\n",
       " '\"Bleed Out\"',\n",
       " '\"Hype Boy\"',\n",
       " '\"Feminina\"',\n",
       " '\"Rush\"',\n",
       " '\"Waterfall\"',\n",
       " '\"POF\"']"
      ]
     },
     "execution_count": 13,
     "metadata": {},
     "output_type": "execute_result"
    }
   ],
   "source": [
    "song_name"
   ]
  },
  {
   "cell_type": "code",
   "execution_count": 15,
   "id": "b1de2f0c",
   "metadata": {},
   "outputs": [
    {
     "data": {
      "text/html": [
       "<div>\n",
       "<style scoped>\n",
       "    .dataframe tbody tr th:only-of-type {\n",
       "        vertical-align: middle;\n",
       "    }\n",
       "\n",
       "    .dataframe tbody tr th {\n",
       "        vertical-align: top;\n",
       "    }\n",
       "\n",
       "    .dataframe thead th {\n",
       "        text-align: right;\n",
       "    }\n",
       "</style>\n",
       "<table border=\"1\" class=\"dataframe\">\n",
       "  <thead>\n",
       "    <tr style=\"text-align: right;\">\n",
       "      <th></th>\n",
       "      <th>Song</th>\n",
       "      <th>Artist</th>\n",
       "    </tr>\n",
       "  </thead>\n",
       "  <tbody>\n",
       "    <tr>\n",
       "      <th>0</th>\n",
       "      <td>\"F.N.F. (Let's Go)\"</td>\n",
       "      <td>Hitkidd &amp; GloRilla</td>\n",
       "    </tr>\n",
       "    <tr>\n",
       "      <th>1</th>\n",
       "      <td>\"ALIEN SUPERSTAR\"</td>\n",
       "      <td>Beyoncé</td>\n",
       "    </tr>\n",
       "    <tr>\n",
       "      <th>2</th>\n",
       "      <td>\"El Apagón\"</td>\n",
       "      <td>Bad Bunny</td>\n",
       "    </tr>\n",
       "    <tr>\n",
       "      <th>3</th>\n",
       "      <td>\"Runner\"</td>\n",
       "      <td>Alex G</td>\n",
       "    </tr>\n",
       "    <tr>\n",
       "      <th>4</th>\n",
       "      <td>\"SAOKO\"</td>\n",
       "      <td>ROSALÍA</td>\n",
       "    </tr>\n",
       "    <tr>\n",
       "      <th>...</th>\n",
       "      <td>...</td>\n",
       "      <td>...</td>\n",
       "    </tr>\n",
       "    <tr>\n",
       "      <th>95</th>\n",
       "      <td>\"Shakedhat\"</td>\n",
       "      <td>Zahsosaa, D STURDY &amp; DJ Crazy</td>\n",
       "    </tr>\n",
       "    <tr>\n",
       "      <th>96</th>\n",
       "      <td>\"Middle of a Heart\"</td>\n",
       "      <td>Adeem the Artist</td>\n",
       "    </tr>\n",
       "    <tr>\n",
       "      <th>97</th>\n",
       "      <td>\"Leave It Alone (Remix)\"</td>\n",
       "      <td>Viking Ding Dong x Ravi B</td>\n",
       "    </tr>\n",
       "    <tr>\n",
       "      <th>98</th>\n",
       "      <td>\"Attention For It Radiates\"</td>\n",
       "      <td>Ian William Craig</td>\n",
       "    </tr>\n",
       "    <tr>\n",
       "      <th>99</th>\n",
       "      <td>\"Gorilla\"</td>\n",
       "      <td>Little Simz</td>\n",
       "    </tr>\n",
       "  </tbody>\n",
       "</table>\n",
       "<p>100 rows × 2 columns</p>\n",
       "</div>"
      ],
      "text/plain": [
       "                           Song                         Artist\n",
       "0           \"F.N.F. (Let's Go)\"             Hitkidd & GloRilla\n",
       "1             \"ALIEN SUPERSTAR\"                        Beyoncé\n",
       "2                   \"El Apagón\"                      Bad Bunny\n",
       "3                      \"Runner\"                         Alex G\n",
       "4                       \"SAOKO\"                        ROSALÍA\n",
       "..                          ...                            ...\n",
       "95                  \"Shakedhat\"  Zahsosaa, D STURDY & DJ Crazy\n",
       "96          \"Middle of a Heart\"               Adeem the Artist\n",
       "97     \"Leave It Alone (Remix)\"      Viking Ding Dong x Ravi B\n",
       "98  \"Attention For It Radiates\"              Ian William Craig\n",
       "99                    \"Gorilla\"                    Little Simz\n",
       "\n",
       "[100 rows x 2 columns]"
      ]
     },
     "execution_count": 15,
     "metadata": {},
     "output_type": "execute_result"
    }
   ],
   "source": [
    "data = []\n",
    "artist_name = []\n",
    "song_name = []\n",
    "\n",
    "for start in rev_starts:\n",
    "    r = requests.get(f'https://www.npr.org{start}')\n",
    "    soup = BeautifulSoup(r.content, 'html.parser')\n",
    "    songs = [i.get_text(strip=True) for i in soup.find_all('h3', attrs={'class': \"edTag\"})]\n",
    "    artist_name.extend(songs[:-1:2][::-1]) \n",
    "    song_name.extend(songs[1::2][::-1])\n",
    "    \n",
    "data = zip(song_name, artist_name)\n",
    "\n",
    "pd.DataFrame(data, columns=['Song' , 'Artist'])"
   ]
  },
  {
   "cell_type": "code",
   "execution_count": null,
   "id": "7a3aafa6",
   "metadata": {},
   "outputs": [],
   "source": []
  }
 ],
 "metadata": {
  "kernelspec": {
   "display_name": "Python 3 (ipykernel)",
   "language": "python",
   "name": "python3"
  },
  "language_info": {
   "codemirror_mode": {
    "name": "ipython",
    "version": 3
   },
   "file_extension": ".py",
   "mimetype": "text/x-python",
   "name": "python",
   "nbconvert_exporter": "python",
   "pygments_lexer": "ipython3",
   "version": "3.9.7"
  }
 },
 "nbformat": 4,
 "nbformat_minor": 5
}
